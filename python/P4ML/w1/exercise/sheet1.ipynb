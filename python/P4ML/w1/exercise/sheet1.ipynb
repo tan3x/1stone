{
 "cells": [
  {
   "cell_type": "markdown",
   "metadata": {},
   "source": [
    "## Before submitting\n",
    "1. Before you turn this problem in, make sure everything runs as expected. First, **restart the kernel** (in the menubar, select Kernel$\\rightarrow$Restart) and then **run all cells** (in the menubar, select Cell$\\rightarrow$Run All).\n",
    "\n",
    "2. Make sure that no assertions fail or exceptions occur, otherwise points will be subtracted.\n",
    "\n",
    "3. Please submit only the `*.ipynb` file.\n",
    "\n",
    "4. Make sure you fill in any place that says `YOUR CODE HERE` or \"YOUR ANSWER HERE\". Edit only between `YOUR CODE HERE` and `END YOUR CODE`.\n",
    "\n",
    "5. Fill your group name and collaborators below:"
   ]
  },
  {
   "cell_type": "code",
   "execution_count": 1,
   "metadata": {
    "collapsed": true
   },
   "outputs": [],
   "source": [
    "GROUPNAME = \"130\"\n",
    "COLLABORATORS = \"Taner Metin, Juhi Pradeep Mehta\""
   ]
  },
  {
   "cell_type": "markdown",
   "metadata": {},
   "source": [
    "---"
   ]
  },
  {
   "cell_type": "markdown",
   "metadata": {},
   "source": [
    "# Exercise Sheet 1: Python Basics\n",
    "\n",
    "This first  exercise sheet tests the basic functionalities of the Python programming language in the context of a simple prediction task. We consider the problem of predicting health risk of subjects from personal data and habits. We first use for this task a decision tree\n",
    "\n",
    "![](tree.png)\n",
    "\n",
    "adapted from the webpage http://www.refactorthis.net/post/2013/04/10/Machine-Learning-tutorial-How-to-create-a-decision-tree-in-RapidMiner-using-the-Titanic-passenger-data-set.aspx. For this exercise sheet, you are required to use only pure Python, and to not import any module, including numpy. In exercise sheet 2, the nearest neighbor part of this exercise sheet will be revisited with numpy."
   ]
  },
  {
   "cell_type": "markdown",
   "metadata": {},
   "source": [
    "## Classifying a single instance (15 P)\n",
    "\n",
    "* Create a function that takes as input a tuple containing values for attributes (smoker,age,diet), and computes the output of the decision tree. Should return `\"less\"` or `\"more\"`.\n",
    "* Test your function on the tuple `('yes', 31, 'good')`,"
   ]
  },
  {
   "cell_type": "code",
   "execution_count": 2,
   "metadata": {
    "collapsed": false,
    "deletable": false,
    "nbgrader": {
     "checksum": "f3e47f689550d7323b8965c76a70298d",
     "grade": false,
     "grade_id": "cell-b66d7278bc313c94",
     "locked": false,
     "schema_version": 1,
     "solution": true
    }
   },
   "outputs": [],
   "source": [
    "def decision(x):\n",
    "    # >>>>> YOUR CODE HERE\n",
    "    #N= tuple(raw_input().split(','))\n",
    "    \n",
    "    \n",
    "    n0 = x[0].strip('\\'')\n",
    "    n1 = x[1]\n",
    "    n2 = x[2].strip(' \\'')\n",
    "\n",
    "    if len(x) != 3:\n",
    "        raise NotImplementedError(\"Enter a convenient tuple.\")\n",
    "    if n0 == 'yes':\n",
    "        if ( n1 < 29.5) :\n",
    "            return 'less'\n",
    "        else:\n",
    "            return 'more'\n",
    "    else:\n",
    "        if n2 == 'good':\n",
    "            return 'less'\n",
    "        else:\n",
    "            return 'more'\n",
    "    # <<<<< END YOUR CODE"
   ]
  },
  {
   "cell_type": "code",
   "execution_count": 3,
   "metadata": {
    "collapsed": false,
    "deletable": false,
    "editable": false,
    "nbgrader": {
     "checksum": "c0559abdef335108b9edbb4ea3011c4c",
     "grade": true,
     "grade_id": "cell-c31b80471db3132f",
     "locked": true,
     "points": 15,
     "schema_version": 1,
     "solution": false
    }
   },
   "outputs": [],
   "source": [
    "x = ('yes', 32, 'good')\n",
    "assert decision(x) == 'more'\n"
   ]
  },
  {
   "cell_type": "markdown",
   "metadata": {},
   "source": [
    "## Reading a dataset from a text file (10 P)\n",
    "\n",
    "The file `health-test.txt` contains several fictious records of personal data and habits.\n",
    "\n",
    "* Read the file automatically using the methods introduced during the lecture.\n",
    "* Represent the dataset as a list of tuples."
   ]
  },
  {
   "cell_type": "code",
   "execution_count": 4,
   "metadata": {
    "collapsed": false,
    "deletable": false,
    "nbgrader": {
     "checksum": "8217159008caa1db2f6649e3ed092d9f",
     "grade": false,
     "grade_id": "cell-c1a8bc4c0e4ccb26",
     "locked": false,
     "schema_version": 1,
     "solution": true
    },
    "scrolled": true
   },
   "outputs": [],
   "source": [
    "\n",
    "def gettest():\n",
    "    # >>>>> YOUR CODE HERE\n",
    "    with open('health-test.txt', 'r') as ftest:\n",
    "        L = list()\n",
    "        global count\n",
    "        count = 0\n",
    "        for line in ftest:\n",
    "            count += 1 \n",
    "            L.extend([x for x in str.split(line[:-1], ',')])\n",
    "    print \"number of lists:\", count\n",
    "    print L\n",
    "    global subList\n",
    "    subList = tuple([L[n:n+3] for n in range(0, len(L), 3)])\n",
    "    print 'exp:', subList[5]\n",
    "    print 'res:', decision(subList[5])\n",
    "    \n",
    "    if ftest == 0:\n",
    "        raise NotImplementedError(\"Could not open file to read.\")\n",
    "    # <<<<< END YOUR CODE"
   ]
  },
  {
   "cell_type": "code",
   "execution_count": 5,
   "metadata": {
    "collapsed": false,
    "deletable": false,
    "editable": false,
    "nbgrader": {
     "checksum": "5a6c609343f9b1d4bb9e02d4cc0abc2e",
     "grade": true,
     "grade_id": "cell-4e1f7ad1e66b3121",
     "locked": true,
     "points": 10,
     "schema_version": 1,
     "solution": false
    }
   },
   "outputs": [
    {
     "name": "stdout",
     "output_type": "stream",
     "text": [
      "number of lists: 8\n",
      "['yes', '21', 'poor', 'no', '50', 'good', 'no', '23', 'good', 'yes', '45', 'poor', 'yes', '51', 'good', 'no', '60', 'good', 'no', '15', 'poor', 'no', '18', 'good']\n",
      "exp: ['no', '60', 'good']\n",
      "res: less\n"
     ]
    }
   ],
   "source": [
    "gettest()"
   ]
  },
  {
   "cell_type": "markdown",
   "metadata": {},
   "source": [
    "## Applying the decision tree to the dataset (15 P)\n",
    "\n",
    "* Apply the decision tree to all points in the dataset, and return the percentage of them that are classified as \"more\"."
   ]
  },
  {
   "cell_type": "code",
   "execution_count": 6,
   "metadata": {
    "collapsed": false,
    "deletable": false,
    "nbgrader": {
     "checksum": "6a8ebad6d019805a1f317cd25c329cff",
     "grade": false,
     "grade_id": "cell-6703ef98e2b5c93b",
     "locked": false,
     "schema_version": 1,
     "solution": true
    }
   },
   "outputs": [],
   "source": [
    "def evaluate_testset():\n",
    "    # >>>>> YOUR CODE HERE\n",
    "    mores = 0\n",
    "    DT = []\n",
    "    for i in range(count):\n",
    "        DT.append(decision(subList[i]))\n",
    "        if decision(subList[i])== 'more':\n",
    "            mores = mores + 1\n",
    "        if len(subList[i]) != 3:\n",
    "            raise NotImplementedError(\"Given data is not convenient.\")\n",
    "    ratio = (mores * 100)/count\n",
    "    \n",
    "    return DT , ratio\n",
    "    \n",
    "    # <<<<< END YOUR CODE"
   ]
  },
  {
   "cell_type": "code",
   "execution_count": 7,
   "metadata": {
    "collapsed": false,
    "deletable": false,
    "editable": false,
    "nbgrader": {
     "checksum": "2cf754f1f4a98838c63a6840e15ae198",
     "grade": true,
     "grade_id": "cell-c13a0b23c9faba52",
     "locked": true,
     "points": 15,
     "schema_version": 1,
     "solution": false
    }
   },
   "outputs": [
    {
     "name": "stdout",
     "output_type": "stream",
     "text": [
      "Health risk for the given dataset:%50\n"
     ]
    }
   ],
   "source": [
    "res = []\n",
    "res, ratio = evaluate_testset()\n",
    "print \"Health risk for the given dataset:%{}\" .format(ratio)\n"
   ]
  },
  {
   "cell_type": "markdown",
   "metadata": {},
   "source": [
    "## Learning from examples (10 P)\n",
    "\n",
    "Suppose that instead of relying on a fixed decision tree, we would like to use a data-driven approach where data points are classified based on a set of training observations manually labeled by experts. Such labeled dataset is available in the file `health-train.txt`. The first three columns have the same meaning than for `health-test.txt`, and the last column corresponds to the labels.\n",
    "\n",
    "* Write a procedure that reads this file and converts it into a list of pairs. The first element of each pair is a triplet of attributes, and the second element is the label."
   ]
  },
  {
   "cell_type": "code",
   "execution_count": 8,
   "metadata": {
    "collapsed": false,
    "deletable": false,
    "nbgrader": {
     "checksum": "e6de29aa89d0457a5c0aeb5d7123a2ef",
     "grade": false,
     "grade_id": "cell-fc38ed11fee6fbeb",
     "locked": false,
     "schema_version": 1,
     "solution": true
    }
   },
   "outputs": [],
   "source": [
    "def gettrain():\n",
    "    # >>>>> YOUR CODE HERE\n",
    "    with open('health-train.txt', 'r') as ftrain:\n",
    "        \n",
    "        T = list()\n",
    "        line_counter = 0\n",
    "        \n",
    "        for line in ftrain:\n",
    "            line_counter = line_counter +1\n",
    "            T.extend([x for x in str.split(line[:-1], ',')])\n",
    "            \n",
    "        dataList = []\n",
    "        labelList = []\n",
    "        \n",
    "        for i in range(line_counter * 4):\n",
    "            if (i+1)%4 ==0:\n",
    "                labelList.append(T[i])\n",
    "            else:\n",
    "                dataList.append(T[i])\n",
    "            \n",
    "        if ftrain == 0:\n",
    "            raise NotImplementedError(\"Inconvenient type of data\")\n",
    "    return dataList, labelList\n",
    "\n",
    "    # <<<<< END YOUR CODE"
   ]
  },
  {
   "cell_type": "code",
   "execution_count": 9,
   "metadata": {
    "collapsed": false,
    "deletable": false,
    "editable": false,
    "nbgrader": {
     "checksum": "925716f474f7b0e3a7892e1aebfa217e",
     "grade": true,
     "grade_id": "cell-a3d593f232e0403a",
     "locked": true,
     "points": 10,
     "schema_version": 1,
     "solution": false
    }
   },
   "outputs": [
    {
     "data": {
      "text/plain": [
       "(['yes',\n",
       "  '54',\n",
       "  'good',\n",
       "  'no',\n",
       "  '55',\n",
       "  'good',\n",
       "  'no',\n",
       "  '26',\n",
       "  'good',\n",
       "  'yes',\n",
       "  '40',\n",
       "  'good',\n",
       "  'yes',\n",
       "  '25',\n",
       "  'poor',\n",
       "  'no',\n",
       "  '13',\n",
       "  'poor',\n",
       "  'no',\n",
       "  '15',\n",
       "  'good',\n",
       "  'no',\n",
       "  '50',\n",
       "  'poor',\n",
       "  'yes',\n",
       "  '33',\n",
       "  'good',\n",
       "  'no',\n",
       "  '35',\n",
       "  'good',\n",
       "  'no',\n",
       "  '41',\n",
       "  'good',\n",
       "  'yes',\n",
       "  '30',\n",
       "  'poor',\n",
       "  'no',\n",
       "  '39',\n",
       "  'poor',\n",
       "  'no',\n",
       "  '20',\n",
       "  'good',\n",
       "  'yes',\n",
       "  '18',\n",
       "  'poor',\n",
       "  'yes',\n",
       "  '55',\n",
       "  'good'],\n",
       " ['less',\n",
       "  'less',\n",
       "  'less',\n",
       "  'more',\n",
       "  'less',\n",
       "  'more',\n",
       "  'less',\n",
       "  'more',\n",
       "  'more',\n",
       "  'less',\n",
       "  'less',\n",
       "  'more',\n",
       "  'more',\n",
       "  'less',\n",
       "  'less',\n",
       "  'more'])"
      ]
     },
     "execution_count": 9,
     "metadata": {},
     "output_type": "execute_result"
    }
   ],
   "source": [
    "gettrain()"
   ]
  },
  {
   "cell_type": "markdown",
   "metadata": {},
   "source": [
    "## Nearest neighbor classifier (25 P)\n",
    "\n",
    "We consider the nearest neighbor algorithm that classifies test points following the label of the nearest neighbor in the training data. For this, we need to define a distance function between data points. We define it to be\n",
    "\n",
    "`d(a, b) = (a[0] != b[0]) + ((a[1] - b[1]) / 50.0) ** 2 + (a[2] != b[2])`\n",
    "\n",
    "where `a` and `b` are two tuples corrsponding to the attributes of two data points.\n",
    "\n",
    "* Write a function that retrieves for a test point the nearest neighbor in the training set, and classifies the test point accordingly.\n",
    "* Test your function on the tuple `('yes', 31, 'good')`"
   ]
  },
  {
   "cell_type": "code",
   "execution_count": 10,
   "metadata": {
    "collapsed": false,
    "deletable": false,
    "nbgrader": {
     "checksum": "87751ef965d915307f761da8071a184f",
     "grade": false,
     "grade_id": "cell-671ea24ec8a11241",
     "locked": false,
     "schema_version": 1,
     "solution": true
    }
   },
   "outputs": [],
   "source": [
    "def neighbor(x, trainset):\n",
    "\n",
    "    smoker = []\n",
    "    age = []\n",
    "    diet = []\n",
    "    distances = []\n",
    "    result = []\n",
    "\n",
    "    for i in xrange(len(trainset)):\n",
    "        \n",
    "        if (i+1)%3 == 1:\n",
    "            smoker.append(trainset[i])\n",
    "            age.append(trainset[i+1])\n",
    "            diet.append(trainset[i+2])\n",
    "            \n",
    "        for j in xrange(len(smoker)):   \n",
    "            distance = int(bool((x[0])!=(smoker[j]))) + (abs(int(x[1]) - int(age[j])) / 50.0)**2 + int(bool((x[2])!=(diet[j])))\n",
    "        distances.append(distance)\n",
    "        dist=[]\n",
    "        \n",
    "        for k in distances:\n",
    "            if k not in dist:\n",
    "                dist.append(k)\n",
    "    \n",
    "#     print 'smoker:', smoker\n",
    "#     print 'age:' , age\n",
    "#     print 'diet:', diet\n",
    "#     print 'list of distances:', dist \n",
    "\n",
    "    avg = sum(dist)/len(dist)\n",
    "    \n",
    "    for m in xrange(len(dist)):\n",
    "      \n",
    "        \n",
    "        if dist[m] < avg:\n",
    "            predict = 'more'\n",
    "            result.append(predict)\n",
    "        else:\n",
    "            predict = 'less'\n",
    "            result.append(predict)\n",
    "    return result\n",
    "\n",
    "    if trainset == 0:\n",
    "        raise NotImplementedError(\"No training data is available.\")\n",
    "\n",
    "    \n",
    "    \n",
    "    # <<<<< END YOUR CODE"
   ]
  },
  {
   "cell_type": "code",
   "execution_count": 11,
   "metadata": {
    "collapsed": false,
    "deletable": false,
    "editable": false,
    "nbgrader": {
     "checksum": "528146e447a25173480343d5fb7fd585",
     "grade": true,
     "grade_id": "cell-a36122337853f195",
     "locked": true,
     "points": 15,
     "schema_version": 1,
     "solution": false
    }
   },
   "outputs": [
    {
     "name": "stdout",
     "output_type": "stream",
     "text": [
      "more\n"
     ]
    }
   ],
   "source": [
    "# Test\n",
    "lData, lLabel = gettrain()\n",
    "print neighbor(x, lData)[0]\n",
    "x = ('yes', 31, 'good')\n",
    "assert neighbor(x, lData)[0] == \"more\"\n"
   ]
  },
  {
   "cell_type": "markdown",
   "metadata": {},
   "source": [
    "* Apply both the decision tree and nearest neighbor classifiers on the test set, and find the data point(s) for which the two classifiers disagree, and with which probability it happens."
   ]
  },
  {
   "cell_type": "code",
   "execution_count": 48,
   "metadata": {
    "collapsed": false,
    "deletable": false,
    "nbgrader": {
     "checksum": "d26e5477527236f7db5c7cb6f8589c3a",
     "grade": false,
     "grade_id": "cell-8dbf7da153f3d797",
     "locked": false,
     "schema_version": 1,
     "solution": true
    }
   },
   "outputs": [],
   "source": [
    "def compare():\n",
    "    # >>>>> YOUR CODE HERE\n",
    "    DT = []\n",
    "    NN = []\n",
    "    DT.append(evaluate_testset()[0])\n",
    "    NN.append(neighbor(x, lData)[:8])\n",
    "    Xdisagree = 0\n",
    "    print 'Results with Decision Tree', DT[0]\n",
    "    print 'Results with Nearest Neighbour', NN[0]\n",
    "    c = 0\n",
    "    \n",
    "    for c in xrange(len(DT[0])):\n",
    "        if DT[0][c] != NN[0][c]:\n",
    "            Xdisagree += 1\n",
    "    probability = (float(Xdisagree) / len(DT[0]))   \n",
    "    print 'Probability of a disagree: {}'.format(probability)\n",
    "    print 'Disagree on {} points.'.format(Xdisagree)\n",
    "   \n",
    "    if ( DT == 0 or NN == 0):\n",
    "        raise NotImplementedError(\"Could not fetch proper result from one of the functions.\")\n",
    "    \n",
    "    \n",
    "    # <<<<< END YOUR CODE\n",
    "    return Xdisagree, probability"
   ]
  },
  {
   "cell_type": "code",
   "execution_count": 49,
   "metadata": {
    "collapsed": false,
    "deletable": false,
    "editable": false,
    "nbgrader": {
     "checksum": "d1705a0d34004040f2bc1fee626e7624",
     "grade": true,
     "grade_id": "cell-3b55f7e89ad4dfeb",
     "locked": true,
     "points": 10,
     "schema_version": 1,
     "solution": false
    }
   },
   "outputs": [
    {
     "name": "stdout",
     "output_type": "stream",
     "text": [
      "Results with Decision Tree ['more', 'less', 'less', 'more', 'more', 'less', 'more', 'less']\n",
      "Results with Nearest Neighbour ['more', 'less', 'more', 'more', 'more', 'less', 'less', 'less']\n",
      "Probability of a disagree: 0.25\n",
      "Disagree on 2 points.\n"
     ]
    },
    {
     "ename": "AssertionError",
     "evalue": "",
     "output_type": "error",
     "traceback": [
      "\u001b[0;31m---------------------------------------------------------------------------\u001b[0m",
      "\u001b[0;31mAssertionError\u001b[0m                            Traceback (most recent call last)",
      "\u001b[0;32m<ipython-input-49-3ba66858b6c6>\u001b[0m in \u001b[0;36m<module>\u001b[0;34m()\u001b[0m\n\u001b[1;32m      1\u001b[0m \u001b[0mXdisagree\u001b[0m\u001b[0;34m,\u001b[0m \u001b[0mprobability\u001b[0m \u001b[0;34m=\u001b[0m \u001b[0mcompare\u001b[0m\u001b[0;34m(\u001b[0m\u001b[0;34m)\u001b[0m\u001b[0;34m\u001b[0m\u001b[0m\n\u001b[0;32m----> 2\u001b[0;31m \u001b[0;32massert\u001b[0m \u001b[0mtype\u001b[0m\u001b[0;34m(\u001b[0m\u001b[0mXdisagree\u001b[0m\u001b[0;34m)\u001b[0m \u001b[0;34m==\u001b[0m \u001b[0mlist\u001b[0m\u001b[0;34m\u001b[0m\u001b[0m\n\u001b[0m\u001b[1;32m      3\u001b[0m \u001b[0;32massert\u001b[0m \u001b[0mprobability\u001b[0m \u001b[0;34m>=\u001b[0m \u001b[0;36m0.0\u001b[0m \u001b[0;32mand\u001b[0m \u001b[0mprobability\u001b[0m \u001b[0;34m<=\u001b[0m \u001b[0;36m1.0\u001b[0m\u001b[0;34m\u001b[0m\u001b[0m\n",
      "\u001b[0;31mAssertionError\u001b[0m: "
     ]
    }
   ],
   "source": [
    "Xdisagree, probability = compare()\n",
    "assert type(Xdisagree) == list\n",
    "assert probability >= 0.0 and probability <= 1.0"
   ]
  },
  {
   "cell_type": "markdown",
   "metadata": {},
   "source": [
    "One problem of simple nearest neighbors is that one needs to compare the point to predict to all data points in the training set. This can be slow for datasets of thousands of points or more. Alternatively, some classifiers train a model first, and then use it to classify the data.\n",
    "\n",
    "## Nearest mean classifier (25 P)\n",
    "\n",
    "We consider one such trainable model, which operates in two steps:\n",
    "\n",
    "(1) Compute the average point for each class, (2) classify new points to be of the class whose average point is nearest to the point to predict.\n",
    "\n",
    "For this classifier, we convert the attributes smoker and diet to real values (for smoker: yes=1.0 and no=0.0, and for diet: good=0.0 and poor=1.0), and use the modified distance function:\n",
    "\n",
    "`d(a,b) = (a[0] - b[0]) ** 2 + ((a[1] - b[1]) / 50.0) ** 2 + (a[2] - b[2]) ** 2`\n",
    "\n",
    "We adopt an object-oriented approach for building this classifier.\n",
    "\n",
    "* Implement the methods `train` and `predict` of the class `NearestMeanClassifier`."
   ]
  },
  {
   "cell_type": "code",
   "execution_count": null,
   "metadata": {
    "collapsed": true,
    "deletable": false,
    "nbgrader": {
     "checksum": "303bfe831913b6c12d012e06b0815e0c",
     "grade": false,
     "grade_id": "cell-e0b339bfd0fcc16c",
     "locked": false,
     "schema_version": 1,
     "solution": true
    }
   },
   "outputs": [],
   "source": [
    "class NearestMeanClassifier:\n",
    "    def train(self, dataset):\n",
    "        # >>>>> YOUR CODE HERE\n",
    "        raise NotImplementedError(\"Replace this line by your code.\")\n",
    "        # <<<<< END YOUR CODE\n",
    "\n",
    "    def predict(self, x):\n",
    "        # >>>>> YOUR CODE HERE\n",
    "        raise NotImplementedError(\"Replace this line by your code.\")\n",
    "        # <<<<< END YOUR CODE\n",
    "        return prediction"
   ]
  },
  {
   "cell_type": "markdown",
   "metadata": {},
   "source": [
    "* Build an object of class `NearestMeanClassifier`, train it on the training data, and print the mean vector for each class."
   ]
  },
  {
   "cell_type": "code",
   "execution_count": null,
   "metadata": {
    "collapsed": true,
    "deletable": false,
    "nbgrader": {
     "checksum": "e41c5c9134feb3a505677bc939acc25d",
     "grade": false,
     "grade_id": "cell-5f7f00ee83c94703",
     "locked": false,
     "schema_version": 1,
     "solution": true
    }
   },
   "outputs": [],
   "source": [
    "def build_and_train():\n",
    "    # >>>>> YOUR CODE HERE\n",
    "    raise NotImplementedError(\"Replace this line by your code.\")\n",
    "    # <<<<< END YOUR CODE\n",
    "build_and_train()"
   ]
  },
  {
   "cell_type": "code",
   "execution_count": null,
   "metadata": {
    "collapsed": true,
    "deletable": false,
    "editable": false,
    "nbgrader": {
     "checksum": "686cebaaedb7e41b87361a8408661ab1",
     "grade": true,
     "grade_id": "cell-415891bde4cbde19",
     "locked": true,
     "points": 15,
     "schema_version": 1,
     "solution": false
    }
   },
   "outputs": [],
   "source": []
  },
  {
   "cell_type": "markdown",
   "metadata": {},
   "source": [
    "* Predict the test data using the nearest mean classifier and print all test examples for which all three classifiers (decision tree, nearest neighbor and nearest mean) agree."
   ]
  },
  {
   "cell_type": "code",
   "execution_count": null,
   "metadata": {
    "collapsed": true,
    "deletable": false,
    "nbgrader": {
     "checksum": "29945175006a71d97e57588c9c524df1",
     "grade": false,
     "grade_id": "cell-f37f3035a32a8f85",
     "locked": false,
     "schema_version": 1,
     "solution": true
    }
   },
   "outputs": [],
   "source": [
    "def predict_test():\n",
    "    # >>>>> YOUR CODE HERE\n",
    "    raise NotImplementedError(\"Replace this line by your code.\")\n",
    "    # <<<<< END YOUR CODE\n",
    "    return agreed_samples\n",
    "predict_test()"
   ]
  },
  {
   "cell_type": "code",
   "execution_count": null,
   "metadata": {
    "collapsed": true,
    "deletable": false,
    "editable": false,
    "nbgrader": {
     "checksum": "951f7d822b4c3475ab6dc89fa3c87d46",
     "grade": true,
     "grade_id": "cell-853c957eaaf81c28",
     "locked": true,
     "points": 10,
     "schema_version": 1,
     "solution": false
    }
   },
   "outputs": [],
   "source": []
  }
 ],
 "metadata": {
  "kernelspec": {
   "display_name": "Python 2",
   "language": "python",
   "name": "python2"
  },
  "language_info": {
   "codemirror_mode": {
    "name": "ipython",
    "version": 2
   },
   "file_extension": ".py",
   "mimetype": "text/x-python",
   "name": "python",
   "nbconvert_exporter": "python",
   "pygments_lexer": "ipython2",
   "version": "2.7.14"
  }
 },
 "nbformat": 4,
 "nbformat_minor": 1
}
