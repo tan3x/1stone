{
 "cells": [
  {
   "cell_type": "code",
   "execution_count": 18,
   "metadata": {
    "collapsed": true
   },
   "outputs": [],
   "source": [
    "l=[1,2,3,5]"
   ]
  },
  {
   "cell_type": "code",
   "execution_count": 19,
   "metadata": {
    "collapsed": false
   },
   "outputs": [
    {
     "name": "stdout",
     "output_type": "stream",
     "text": [
      "[1, 2, 3, 5]\n"
     ]
    }
   ],
   "source": [
    "print l"
   ]
  },
  {
   "cell_type": "code",
   "execution_count": 20,
   "metadata": {
    "collapsed": false
   },
   "outputs": [
    {
     "name": "stdout",
     "output_type": "stream",
     "text": [
      "[5, 3, 2]\n"
     ]
    }
   ],
   "source": [
    "print l[5:0:-1]"
   ]
  },
  {
   "cell_type": "code",
   "execution_count": 23,
   "metadata": {
    "collapsed": false
   },
   "outputs": [
    {
     "name": "stdout",
     "output_type": "stream",
     "text": [
      "[1, 2, 3, 5, 1, 2, 3, 5, 1, 2, 3, 5]\n"
     ]
    }
   ],
   "source": [
    "print l*3"
   ]
  },
  {
   "cell_type": "code",
   "execution_count": 24,
   "metadata": {
    "collapsed": false
   },
   "outputs": [
    {
     "name": "stdout",
     "output_type": "stream",
     "text": [
      "4\n"
     ]
    }
   ],
   "source": [
    "print len(l)"
   ]
  },
  {
   "cell_type": "code",
   "execution_count": 25,
   "metadata": {
    "collapsed": true
   },
   "outputs": [],
   "source": [
    "l2=[1, True, 'Gold']"
   ]
  },
  {
   "cell_type": "code",
   "execution_count": 29,
   "metadata": {
    "collapsed": false
   },
   "outputs": [
    {
     "name": "stdout",
     "output_type": "stream",
     "text": [
      "1\n",
      "True\n",
      "Gold\n"
     ]
    }
   ],
   "source": [
    "for i in l2:\n",
    "    print i\n"
   ]
  },
  {
   "cell_type": "code",
   "execution_count": 30,
   "metadata": {
    "collapsed": false
   },
   "outputs": [
    {
     "name": "stdout",
     "output_type": "stream",
     "text": [
      "3\n"
     ]
    }
   ],
   "source": [
    "print len(l2)"
   ]
  },
  {
   "cell_type": "code",
   "execution_count": 31,
   "metadata": {
    "collapsed": false
   },
   "outputs": [
    {
     "data": {
      "text/plain": [
       "'Today is Monday, 23th of April'"
      ]
     },
     "execution_count": 31,
     "metadata": {},
     "output_type": "execute_result"
    }
   ],
   "source": [
    "\"Today is {}, {}th of {}\" .format(\"Monday\", 23, \"April\")"
   ]
  },
  {
   "cell_type": "code",
   "execution_count": 35,
   "metadata": {
    "collapsed": false
   },
   "outputs": [
    {
     "name": "stdout",
     "output_type": "stream",
     "text": [
      "1.00\n"
     ]
    }
   ],
   "source": [
    "\n",
    "print(\"{:.2f}\".format(4/3))"
   ]
  },
  {
   "cell_type": "code",
   "execution_count": 39,
   "metadata": {
    "collapsed": false
   },
   "outputs": [
    {
     "name": "stdout",
     "output_type": "stream",
     "text": [
      "0015\n"
     ]
    }
   ],
   "source": [
    "print(\"{:04d}\".format(15))"
   ]
  },
  {
   "cell_type": "code",
   "execution_count": 42,
   "metadata": {
    "collapsed": false
   },
   "outputs": [
    {
     "data": {
      "text/plain": [
       "True"
      ]
     },
     "execution_count": 42,
     "metadata": {},
     "output_type": "execute_result"
    }
   ],
   "source": [
    "\"tan\" in \"taner\""
   ]
  },
  {
   "cell_type": "code",
   "execution_count": 47,
   "metadata": {
    "collapsed": false
   },
   "outputs": [],
   "source": [
    "def f(x, y):\n",
    "    z = (x ** 2 + y ** 2) ** 0.5\n",
    "    return z"
   ]
  },
  {
   "cell_type": "code",
   "execution_count": 48,
   "metadata": {
    "collapsed": false
   },
   "outputs": [
    {
     "name": "stdout",
     "output_type": "stream",
     "text": [
      "5.0\n"
     ]
    }
   ],
   "source": [
    "print f(3,4)"
   ]
  },
  {
   "cell_type": "code",
   "execution_count": 49,
   "metadata": {
    "collapsed": true
   },
   "outputs": [],
   "source": [
    "g = lambda x,y:(x**2 + y**2)**0.5"
   ]
  },
  {
   "cell_type": "code",
   "execution_count": 50,
   "metadata": {
    "collapsed": false
   },
   "outputs": [
    {
     "data": {
      "text/plain": [
       "5.0"
      ]
     },
     "execution_count": 50,
     "metadata": {},
     "output_type": "execute_result"
    }
   ],
   "source": [
    "g(3,4)"
   ]
  },
  {
   "cell_type": "code",
   "execution_count": 101,
   "metadata": {
    "collapsed": false
   },
   "outputs": [],
   "source": [
    "apple = {'color': 'green',\n",
    "        'size' : 'big'}\n",
    "orange = {'color': 'orange',\n",
    "        'size': 'small'}"
   ]
  },
  {
   "cell_type": "code",
   "execution_count": 102,
   "metadata": {
    "collapsed": false
   },
   "outputs": [
    {
     "name": "stdout",
     "output_type": "stream",
     "text": [
      "{'color': 'orange', 'size': 'small'}\n"
     ]
    }
   ],
   "source": [
    "print orange"
   ]
  },
  {
   "cell_type": "code",
   "execution_count": 103,
   "metadata": {
    "collapsed": false
   },
   "outputs": [
    {
     "name": "stdout",
     "output_type": "stream",
     "text": [
      "color\n",
      "size\n"
     ]
    }
   ],
   "source": [
    "for i in apple:\n",
    "    print i"
   ]
  },
  {
   "cell_type": "code",
   "execution_count": 104,
   "metadata": {
    "collapsed": false
   },
   "outputs": [
    {
     "data": {
      "text/plain": [
       "dict"
      ]
     },
     "execution_count": 104,
     "metadata": {},
     "output_type": "execute_result"
    }
   ],
   "source": [
    "type(apple)"
   ]
  },
  {
   "cell_type": "code",
   "execution_count": 105,
   "metadata": {
    "collapsed": false
   },
   "outputs": [
    {
     "data": {
      "text/plain": [
       "'big'"
      ]
     },
     "execution_count": 105,
     "metadata": {},
     "output_type": "execute_result"
    }
   ],
   "source": [
    "apple['size']"
   ]
  },
  {
   "cell_type": "code",
   "execution_count": 142,
   "metadata": {
    "collapsed": false
   },
   "outputs": [],
   "source": [
    "def classify(x):\n",
    "    if x['color']=='green' :\n",
    "        if x['size']=='big':\n",
    "            decision = 'apple'\n",
    "            print 'bom:', decision\n",
    "        elif x['size']== 'small':\n",
    "            decision = 'orange'\n",
    "            print 'mango'\n",
    "        else: \n",
    "            print 'nom'\n",
    "            decision = 'cherry'\n",
    "    elif x['color']=='orange': \n",
    "        decision = 'orange'\n",
    "        print 'delicioso:', decision\n",
    "    else:\n",
    "        print \"other\"\n",
    "        decision= 'other'\n",
    "    return decision\n",
    "        "
   ]
  },
  {
   "cell_type": "code",
   "execution_count": 143,
   "metadata": {
    "collapsed": false
   },
   "outputs": [
    {
     "name": "stdout",
     "output_type": "stream",
     "text": [
      "bom: apple\n"
     ]
    },
    {
     "data": {
      "text/plain": [
       "'apple'"
      ]
     },
     "execution_count": 143,
     "metadata": {},
     "output_type": "execute_result"
    }
   ],
   "source": [
    "classify(apple)"
   ]
  },
  {
   "cell_type": "code",
   "execution_count": 144,
   "metadata": {
    "collapsed": false
   },
   "outputs": [
    {
     "name": "stdout",
     "output_type": "stream",
     "text": [
      "other\n",
      "green\n",
      "orange\n",
      "ice\n"
     ]
    }
   ],
   "source": [
    "classify({'color': 'red', 'size': 'small'})\n",
    "print apple['color']\n",
    "print orange['color']\n",
    "if apple['color'] != orange['color']:\n",
    "    print 'ice'"
   ]
  },
  {
   "cell_type": "code",
   "execution_count": 145,
   "metadata": {
    "collapsed": false
   },
   "outputs": [
    {
     "name": "stdout",
     "output_type": "stream",
     "text": [
      "differencia\n",
      "los mismo\n"
     ]
    }
   ],
   "source": [
    "def compare(x, y):\n",
    "    return 'los mismo' if x == y else 'differencia'\n",
    "print(compare(5,10))\n",
    "print(compare(10,10))"
   ]
  },
  {
   "cell_type": "code",
   "execution_count": 146,
   "metadata": {
    "collapsed": false
   },
   "outputs": [
    {
     "name": "stdout",
     "output_type": "stream",
     "text": [
      "canela\n",
      "canela\n",
      "canela\n",
      "canela\n",
      "canela\n"
     ]
    }
   ],
   "source": [
    "for i in range(5):\n",
    "    print 'canela'"
   ]
  },
  {
   "cell_type": "code",
   "execution_count": 147,
   "metadata": {
    "collapsed": false
   },
   "outputs": [],
   "source": [
    "data = [\n",
    "           {'color': 'green', 'size': 'big'},\n",
    "           {'color': 'yellow', 'shape': 'round', 'size': 'big'},\n",
    "           {'color': 'red', 'size': 'medium'},\n",
    "           {'color': 'green', 'size': 'big'},\n",
    "           {'color': 'red', 'size': 'small', 'taste': 'sour'},\n",
    "           {'color': 'green', 'size': 'small'}\n",
    "]"
   ]
  },
  {
   "cell_type": "code",
   "execution_count": 148,
   "metadata": {
    "collapsed": false
   },
   "outputs": [
    {
     "data": {
      "text/plain": [
       "(list, str)"
      ]
     },
     "execution_count": 148,
     "metadata": {},
     "output_type": "execute_result"
    }
   ],
   "source": [
    "type(data), type(data[0]['color'])"
   ]
  },
  {
   "cell_type": "code",
   "execution_count": 159,
   "metadata": {
    "collapsed": true
   },
   "outputs": [],
   "source": [
    "result = list()"
   ]
  },
  {
   "cell_type": "code",
   "execution_count": 160,
   "metadata": {
    "collapsed": false
   },
   "outputs": [
    {
     "name": "stdout",
     "output_type": "stream",
     "text": [
      "bom: apple\n",
      "other\n",
      "other\n",
      "bom: apple\n",
      "other\n",
      "mango\n"
     ]
    }
   ],
   "source": [
    "for x in data:\n",
    "    result.append(classify(x))\n"
   ]
  },
  {
   "cell_type": "code",
   "execution_count": 161,
   "metadata": {
    "collapsed": false
   },
   "outputs": [
    {
     "name": "stdout",
     "output_type": "stream",
     "text": [
      "['apple', 'other', 'other', 'apple', 'other', 'orange']\n"
     ]
    }
   ],
   "source": [
    "print result"
   ]
  },
  {
   "cell_type": "code",
   "execution_count": 164,
   "metadata": {
    "collapsed": false
   },
   "outputs": [
    {
     "name": "stdout",
     "output_type": "stream",
     "text": [
      "bom: apple\n",
      "bom: apple\n",
      "mango\n",
      "['apple', 'apple', 'orange']\n"
     ]
    }
   ],
   "source": [
    "print([classify(x) for x in data if x['color']=='green'])"
   ]
  },
  {
   "cell_type": "code",
   "execution_count": 169,
   "metadata": {
    "collapsed": false
   },
   "outputs": [
    {
     "name": "stdout",
     "output_type": "stream",
     "text": [
      "apple\n",
      "apple\n",
      "2\n"
     ]
    }
   ],
   "source": [
    "count = 0\n",
    "for r in result:\n",
    "    if r == 'apple':\n",
    "        count = count + 1\n",
    "        print r\n",
    "print count "
   ]
  },
  {
   "cell_type": "code",
   "execution_count": 171,
   "metadata": {
    "collapsed": false
   },
   "outputs": [
    {
     "name": "stdout",
     "output_type": "stream",
     "text": [
      "bom: apple\n",
      "other\n",
      "other\n",
      "bom: apple\n",
      "other\n",
      "mango\n"
     ]
    },
    {
     "data": {
      "text/plain": [
       "2"
      ]
     },
     "execution_count": 171,
     "metadata": {},
     "output_type": "execute_result"
    }
   ],
   "source": [
    "#pythonic way\n",
    "\n",
    "sum(classify(x)=='apple' for x in data)"
   ]
  },
  {
   "cell_type": "code",
   "execution_count": 177,
   "metadata": {
    "collapsed": false
   },
   "outputs": [
    {
     "name": "stdout",
     "output_type": "stream",
     "text": [
      "80,55,16,26,37,62,49,13,28,56\n",
      "\n",
      "43,45,47,63,43,65,10,52,30,18\n",
      "\n",
      "63,71,69,24,54,29,79,83,38,56\n",
      "\n",
      "46,42,39,14,47,40,72,43,57,47\n",
      "\n",
      "61,49,65,31,79,62,9,90,65,44\n",
      "\n",
      "10,28,16,6,61,72,78,55,54,48\n",
      "\n",
      "[80.0, 55.0, 16.0, 26.0, 37.0, 62.0, 49.0, 13.0, 28.0, 56.0, 43.0, 45.0, 47.0, 63.0, 43.0, 65.0, 10.0, 52.0, 30.0, 18.0, 63.0, 71.0, 69.0, 24.0, 54.0, 29.0, 79.0, 83.0, 38.0, 56.0, 46.0, 42.0, 39.0, 14.0, 47.0, 40.0, 72.0, 43.0, 57.0, 47.0, 61.0, 49.0, 65.0, 31.0, 79.0, 62.0, 9.0, 90.0, 65.0, 44.0, 10.0, 28.0, 16.0, 6.0, 61.0, 72.0, 78.0, 55.0, 54.0, 48.0]\n"
     ]
    }
   ],
   "source": [
    "\n",
    "with open('scores.txt', 'r') as f:\n",
    "    L = list()\n",
    "    D = list()\n",
    "    for line in f:\n",
    "        print line\n",
    "        D.extend([float(x) for x in str.split(line[:-1], ',')])\n",
    "    print D"
   ]
  },
  {
   "cell_type": "code",
   "execution_count": 183,
   "metadata": {
    "collapsed": false
   },
   "outputs": [
    {
     "name": "stdout",
     "output_type": "stream",
     "text": [
      "Exception occured:File output.txt already exists.\n"
     ]
    }
   ],
   "source": [
    "import os\n",
    "try:\n",
    "    output = 'output.txt'\n",
    "    if os.path.exists(output):\n",
    "        raise Exception(\"File {} already exists.\".format(output))\n",
    "    with open(output, 'w') as f:\n",
    "        f.write(str(D))\n",
    "except Exception as e:\n",
    "    print(\"Exception occured:{}\".format(e))\n",
    "    "
   ]
  },
  {
   "cell_type": "code",
   "execution_count": 188,
   "metadata": {
    "collapsed": false
   },
   "outputs": [
    {
     "name": "stdout",
     "output_type": "stream",
     "text": [
      "[80.0, 55.0, 16.0, 26.0, 37.0, 62.0, 49.0, 13.0, 28.0, 56.0, 43.0, 45.0, 47.0, 63.0, 43.0, 65.0, 10.0, 52.0, 30.0, 18.0, 63.0, 71.0, 69.0, 24.0, 54.0, 29.0, 79.0, 83.0, 38.0, 56.0, 46.0, 42.0, 39.0, 14.0, 47.0, 40.0, 72.0, 43.0, 57.0, 47.0, 61.0, 49.0, 65.0, 31.0, 79.0, 62.0, 9.0, 90.0, 65.0, 44.0, 10.0, 28.0, 16.0, 6.0, 61.0, 72.0, 78.0, 55.0, 54.0, 48.0]\n",
      "\n"
     ]
    }
   ],
   "source": [
    "with open('output.txt', 'r') as out:\n",
    "    for line in out:\n",
    "        print line + '\\n' "
   ]
  },
  {
   "cell_type": "code",
   "execution_count": 189,
   "metadata": {
    "collapsed": true
   },
   "outputs": [],
   "source": [
    "Dtrain = D[:20]"
   ]
  },
  {
   "cell_type": "code",
   "execution_count": 190,
   "metadata": {
    "collapsed": true
   },
   "outputs": [],
   "source": [
    "Dtest = D[20:]"
   ]
  },
  {
   "cell_type": "code",
   "execution_count": 204,
   "metadata": {
    "collapsed": false
   },
   "outputs": [
    {
     "name": "stdout",
     "output_type": "stream",
     "text": [
      "training data: [80.0, 55.0, 16.0, 26.0, 37.0, 62.0, 49.0, 13.0, 28.0, 56.0, 43.0, 45.0, 47.0, 63.0, 43.0, 65.0, 10.0, 52.0, 30.0, 18.0]\n"
     ]
    }
   ],
   "source": [
    "print 'training data:', Dtrain\n"
   ]
  },
  {
   "cell_type": "code",
   "execution_count": 193,
   "metadata": {
    "collapsed": true
   },
   "outputs": [],
   "source": [
    "class Classifier:\n",
    "    def train(self, X):\n",
    "        self.avg = sum(X)/len(X)\n",
    "    def predict(self, X):\n",
    "        return ['above' if x > self.avg else 'below' for x in X]"
   ]
  },
  {
   "cell_type": "code",
   "execution_count": 197,
   "metadata": {
    "collapsed": true
   },
   "outputs": [],
   "source": [
    "ctrain = Classifier()"
   ]
  },
  {
   "cell_type": "code",
   "execution_count": 198,
   "metadata": {
    "collapsed": false
   },
   "outputs": [
    {
     "name": "stdout",
     "output_type": "stream",
     "text": [
      "41.9\n"
     ]
    }
   ],
   "source": [
    "c.train(Dtrain)\n",
    "print c.avg"
   ]
  },
  {
   "cell_type": "code",
   "execution_count": 199,
   "metadata": {
    "collapsed": true
   },
   "outputs": [],
   "source": [
    "test = c.predict(Dtest)"
   ]
  },
  {
   "cell_type": "code",
   "execution_count": 201,
   "metadata": {
    "collapsed": false
   },
   "outputs": [
    {
     "data": {
      "text/plain": [
       "[(63.0, 'above'),\n",
       " (71.0, 'above'),\n",
       " (69.0, 'above'),\n",
       " (24.0, 'below'),\n",
       " (54.0, 'above')]"
      ]
     },
     "execution_count": 201,
     "metadata": {},
     "output_type": "execute_result"
    }
   ],
   "source": [
    "list(zip(Dtest[:5], test[:5]))"
   ]
  },
  {
   "cell_type": "code",
   "execution_count": null,
   "metadata": {
    "collapsed": true
   },
   "outputs": [],
   "source": []
  }
 ],
 "metadata": {
  "kernelspec": {
   "display_name": "Python 2",
   "language": "python",
   "name": "python2"
  },
  "language_info": {
   "codemirror_mode": {
    "name": "ipython",
    "version": 2
   },
   "file_extension": ".py",
   "mimetype": "text/x-python",
   "name": "python",
   "nbconvert_exporter": "python",
   "pygments_lexer": "ipython2",
   "version": "2.7.14"
  }
 },
 "nbformat": 4,
 "nbformat_minor": 2
}
