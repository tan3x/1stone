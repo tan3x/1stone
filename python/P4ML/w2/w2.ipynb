{
 "cells": [
  {
   "cell_type": "code",
   "execution_count": 1,
   "metadata": {
    "collapsed": true
   },
   "outputs": [],
   "source": [
    "import numpy "
   ]
  },
  {
   "cell_type": "code",
   "execution_count": 2,
   "metadata": {
    "collapsed": true
   },
   "outputs": [],
   "source": [
    "x = numpy.array([1,2,2,3,4])"
   ]
  },
  {
   "cell_type": "code",
   "execution_count": 3,
   "metadata": {
    "collapsed": true
   },
   "outputs": [],
   "source": [
    "y = numpy.array([3,5,6,7,8])"
   ]
  },
  {
   "cell_type": "code",
   "execution_count": 10,
   "metadata": {
    "collapsed": false
   },
   "outputs": [
    {
     "data": {
      "text/plain": [
       "array([ 3, 10, 12, 21, 32])"
      ]
     },
     "execution_count": 10,
     "metadata": {},
     "output_type": "execute_result"
    }
   ],
   "source": [
    "x * y #element-wise multiplication"
   ]
  },
  {
   "cell_type": "code",
   "execution_count": 11,
   "metadata": {
    "collapsed": false
   },
   "outputs": [
    {
     "data": {
      "text/plain": [
       "array([1, 2, 2, 3, 4])"
      ]
     },
     "execution_count": 11,
     "metadata": {},
     "output_type": "execute_result"
    }
   ],
   "source": [
    "x.T"
   ]
  },
  {
   "cell_type": "code",
   "execution_count": 13,
   "metadata": {
    "collapsed": false
   },
   "outputs": [
    {
     "data": {
      "text/plain": [
       "array([2, 3, 4])"
      ]
     },
     "execution_count": 13,
     "metadata": {},
     "output_type": "execute_result"
    }
   ],
   "source": [
    "x[2:]"
   ]
  },
  {
   "cell_type": "code",
   "execution_count": 52,
   "metadata": {
    "collapsed": false
   },
   "outputs": [
    {
     "data": {
      "text/plain": [
       "78"
      ]
     },
     "execution_count": 52,
     "metadata": {},
     "output_type": "execute_result"
    }
   ],
   "source": [
    "numpy.dot(x,y) #dot product, matrix multiplication"
   ]
  },
  {
   "cell_type": "code",
   "execution_count": 53,
   "metadata": {
    "collapsed": false
   },
   "outputs": [
    {
     "data": {
      "text/plain": [
       "34"
      ]
     },
     "execution_count": 53,
     "metadata": {},
     "output_type": "execute_result"
    }
   ],
   "source": [
    "numpy.dot(x,x.T)"
   ]
  },
  {
   "cell_type": "code",
   "execution_count": 22,
   "metadata": {
    "collapsed": true
   },
   "outputs": [],
   "source": [
    "x_list=[1,2,2,3,4]"
   ]
  },
  {
   "cell_type": "code",
   "execution_count": 23,
   "metadata": {
    "collapsed": true
   },
   "outputs": [],
   "source": [
    "y_list=[3,5,6,7,8]"
   ]
  },
  {
   "cell_type": "code",
   "execution_count": 25,
   "metadata": {
    "collapsed": false
   },
   "outputs": [
    {
     "data": {
      "text/plain": [
       "[1, 2, 2, 3, 4, 3, 5, 6, 7, 8]"
      ]
     },
     "execution_count": 25,
     "metadata": {},
     "output_type": "execute_result"
    }
   ],
   "source": [
    "x_list + y_list #extending addition"
   ]
  },
  {
   "cell_type": "code",
   "execution_count": 28,
   "metadata": {
    "collapsed": false
   },
   "outputs": [
    {
     "ename": "TypeError",
     "evalue": "can't multiply sequence by non-int of type 'list'",
     "output_type": "error",
     "traceback": [
      "\u001b[0;31m---------------------------------------------------------------------------\u001b[0m",
      "\u001b[0;31mTypeError\u001b[0m                                 Traceback (most recent call last)",
      "\u001b[0;32m<ipython-input-28-76e37328d435>\u001b[0m in \u001b[0;36m<module>\u001b[0;34m()\u001b[0m\n\u001b[0;32m----> 1\u001b[0;31m \u001b[0mx_list\u001b[0m \u001b[0;34m*\u001b[0m \u001b[0my_list\u001b[0m \u001b[0;31m#raises exception, since list is not an array\u001b[0m\u001b[0;34m\u001b[0m\u001b[0m\n\u001b[0m",
      "\u001b[0;31mTypeError\u001b[0m: can't multiply sequence by non-int of type 'list'"
     ]
    }
   ],
   "source": [
    "x_list * y_list #raises exception, since list is not a real array\n"
   ]
  },
  {
   "cell_type": "code",
   "execution_count": 41,
   "metadata": {
    "collapsed": false
   },
   "outputs": [
    {
     "data": {
      "text/plain": [
       "[(1, 3), (2, 5), (2, 6), (3, 7), (4, 8)]"
      ]
     },
     "execution_count": 41,
     "metadata": {},
     "output_type": "execute_result"
    }
   ],
   "source": [
    "zip(x_list,y_list) #pair presentation of list"
   ]
  },
  {
   "cell_type": "code",
   "execution_count": 45,
   "metadata": {
    "collapsed": false
   },
   "outputs": [],
   "source": [
    "s = [a+b for a,b in zip(x_list,y_list)] #element-wise addition of list"
   ]
  },
  {
   "cell_type": "code",
   "execution_count": 47,
   "metadata": {
    "collapsed": false
   },
   "outputs": [
    {
     "name": "stdout",
     "output_type": "stream",
     "text": [
      "41\n"
     ]
    }
   ],
   "source": [
    "print sum(s)"
   ]
  },
  {
   "cell_type": "code",
   "execution_count": 49,
   "metadata": {
    "collapsed": false
   },
   "outputs": [
    {
     "data": {
      "text/plain": [
       "list"
      ]
     },
     "execution_count": 49,
     "metadata": {},
     "output_type": "execute_result"
    }
   ],
   "source": [
    "type(s)"
   ]
  },
  {
   "cell_type": "code",
   "execution_count": 58,
   "metadata": {
    "collapsed": false
   },
   "outputs": [],
   "source": [
    "A = numpy.array(\n",
    "        [\n",
    "        [1,2,3],\n",
    "        [4,5,6]\n",
    "        ]\n",
    ")"
   ]
  },
  {
   "cell_type": "code",
   "execution_count": 63,
   "metadata": {
    "collapsed": false
   },
   "outputs": [
    {
     "name": "stdout",
     "output_type": "stream",
     "text": [
      "[[1 2 3]\n",
      " [4 5 6]]\n",
      "ßßßßßßßßßß\n",
      "(2, 3)\n"
     ]
    }
   ],
   "source": [
    "print A\n",
    "print (10 * \"ß\")\n",
    "print A.shape"
   ]
  },
  {
   "cell_type": "code",
   "execution_count": 65,
   "metadata": {
    "collapsed": false
   },
   "outputs": [
    {
     "data": {
      "text/plain": [
       "array([[ 1,  4,  9],\n",
       "       [16, 25, 36]])"
      ]
     },
     "execution_count": 65,
     "metadata": {},
     "output_type": "execute_result"
    }
   ],
   "source": [
    "A * A # element-wise"
   ]
  },
  {
   "cell_type": "code",
   "execution_count": 68,
   "metadata": {
    "collapsed": false
   },
   "outputs": [
    {
     "data": {
      "text/plain": [
       "array([[14, 32],\n",
       "       [32, 77]])"
      ]
     },
     "execution_count": 68,
     "metadata": {},
     "output_type": "execute_result"
    }
   ],
   "source": [
    "numpy.dot(A,A.T) #matrix-multiplication"
   ]
  },
  {
   "cell_type": "code",
   "execution_count": 69,
   "metadata": {
    "collapsed": true
   },
   "outputs": [],
   "source": [
    "import time"
   ]
  },
  {
   "cell_type": "code",
   "execution_count": 71,
   "metadata": {
    "collapsed": false
   },
   "outputs": [
    {
     "data": {
      "text/plain": [
       "1.722973"
      ]
     },
     "execution_count": 71,
     "metadata": {},
     "output_type": "execute_result"
    }
   ],
   "source": [
    "time.clock()"
   ]
  },
  {
   "cell_type": "code",
   "execution_count": 81,
   "metadata": {
    "collapsed": false
   },
   "outputs": [],
   "source": [
    "def benchmark_python(n):\n",
    "    #initials\n",
    "    x1 = numpy.ones((n,n))\n",
    "    x2 = numpy.ones((n,n))\n",
    "    x3 = numpy.zeros((n,n))\n",
    "    \n",
    "    #actual multiplication\n",
    "    start = time.clock()\n",
    "    \n",
    "    for i in range(n):\n",
    "        for j in range(n):\n",
    "            for k in range(n):\n",
    "                x3[i,j] = x1[i,k] * x2[k,j]\n",
    "    end  = time.clock()\n",
    "    return end-start\n",
    "\n"
   ]
  },
  {
   "cell_type": "code",
   "execution_count": 127,
   "metadata": {
    "collapsed": true
   },
   "outputs": [],
   "source": [
    "def benchmark_numpy(n):\n",
    "    x1 = numpy.ones((n,n))\n",
    "    x2 = numpy.ones((n,n))\n",
    "    x3 = numpy.zeros((n,n))\n",
    "    \n",
    "    start = time.clock()\n",
    "    \n",
    "    z = numpy.dot(x1,x2)\n",
    "    \n",
    "    end = time.clock()\n",
    "    \n",
    "    return end-start\n",
    "        "
   ]
  },
  {
   "cell_type": "code",
   "execution_count": 128,
   "metadata": {
    "collapsed": false
   },
   "outputs": [
    {
     "data": {
      "text/plain": [
       "(0.48633400000000293, 0.0006450000000022271)"
      ]
     },
     "execution_count": 128,
     "metadata": {},
     "output_type": "execute_result"
    }
   ],
   "source": [
    "size=100\n",
    "benchmark_python(size), benchmark_numpy(size)"
   ]
  },
  {
   "cell_type": "code",
   "execution_count": 129,
   "metadata": {
    "collapsed": false
   },
   "outputs": [],
   "source": [
    "import matplotlib\n",
    "import matplotlib.pyplot as plt\n",
    "%matplotlib inline\n"
   ]
  },
  {
   "cell_type": "code",
   "execution_count": null,
   "metadata": {
    "collapsed": false
   },
   "outputs": [],
   "source": []
  },
  {
   "cell_type": "code",
   "execution_count": 130,
   "metadata": {
    "collapsed": false
   },
   "outputs": [],
   "source": [
    "xA = numpy.arange(0,10.01, 0.25)\n",
    "xSin = numpy.sin(xA)\n",
    "xCos = numpy.cos(xA)"
   ]
  },
  {
   "cell_type": "code",
   "execution_count": 131,
   "metadata": {
    "collapsed": false
   },
   "outputs": [
    {
     "name": "stdout",
     "output_type": "stream",
     "text": [
      "[  0.     0.25   0.5    0.75   1.     1.25   1.5    1.75   2.     2.25\n",
      "   2.5    2.75   3.     3.25   3.5    3.75   4.     4.25   4.5    4.75   5.\n",
      "   5.25   5.5    5.75   6.     6.25   6.5    6.75   7.     7.25   7.5\n",
      "   7.75   8.     8.25   8.5    8.75   9.     9.25   9.5    9.75  10.  ]\n"
     ]
    }
   ],
   "source": [
    "print x4"
   ]
  },
  {
   "cell_type": "code",
   "execution_count": 132,
   "metadata": {
    "collapsed": false
   },
   "outputs": [
    {
     "data": {
      "image/png": "[encoded data removed]",
      "text/plain": [
       "<Figure size 432x288 with 1 Axes>"
      ]
     },
     "metadata": {},
     "output_type": "display_data"
    }
   ],
   "source": [
    "plt.plot(xA, xSin, 'o-', color='red', label='f = sin(x)')\n",
    "plt.plot(xA, xCos, 'o-', color='blue', label='f = cos(x)')\n",
    "plt.legend()\n",
    "plt.xlabel('x')\n",
    "plt.ylabel('f(x)')\n",
    "plt.grid(True)"
   ]
  },
  {
   "cell_type": "code",
   "execution_count": 133,
   "metadata": {
    "collapsed": false
   },
   "outputs": [],
   "source": [
    "N = [1, 2, 4, 8, 16, 32, 64, 128, 256]"
   ]
  },
  {
   "cell_type": "code",
   "execution_count": 136,
   "metadata": {
    "collapsed": false
   },
   "outputs": [],
   "source": [
    "py_t = [benchmark_python(n) for n in N]\n",
    "np_t = [benchmark_numpy(n) for n in N]"
   ]
  },
  {
   "cell_type": "code",
   "execution_count": 137,
   "metadata": {
    "collapsed": false
   },
   "outputs": [
    {
     "data": {
      "text/plain": [
       "<matplotlib.legend.Legend at 0x103f87390>"
      ]
     },
     "execution_count": 137,
     "metadata": {},
     "output_type": "execute_result"
    },
    {
     "data": {
      "image/png": "[encoded data removed]",
      "text/plain": [
       "<Figure size 432x288 with 1 Axes>"
      ]
     },
     "metadata": {},
     "output_type": "display_data"
    }
   ],
   "source": [
    "plt.plot(N, py_t, 'o-', label='Python')\n",
    "plt.plot(N, np_t, 's-', label='Numpy')\n",
    "plt.grid(True)\n",
    "plt.xscale('log')\n",
    "plt.yscale('log')\n",
    "plt.xlabel('array size n')\n",
    "plt.ylabel('time [s]')\n",
    "plt.legend(loc='lower right')"
   ]
  },
  {
   "cell_type": "code",
   "execution_count": 152,
   "metadata": {
    "collapsed": false
   },
   "outputs": [],
   "source": [
    "A = numpy.zeros((3, 3)) # array of size 2x2 filled with zeros\n",
    "A3 = numpy.zeros((3, 3, 3)) # array of size 2x2 filled with zeros\n",
    "B = numpy.ones((3, 3)) # same, but filled with ones\n",
    "C = numpy.diag((1.0, 2.0, 3.0)) # diagonal matrix\n",
    "D = numpy.eye(3) # identity matrix\n",
    "E = numpy.random.rand(3, 3) # random numbers\n",
    "F = numpy.triu(B) # upper triagonal matrix"
   ]
  },
  {
   "cell_type": "code",
   "execution_count": 153,
   "metadata": {
    "collapsed": false
   },
   "outputs": [
    {
     "name": "stdout",
     "output_type": "stream",
     "text": [
      "[[ 1.  0.  0.]\n",
      " [ 0.  2.  0.]\n",
      " [ 0.  0.  3.]]\n"
     ]
    }
   ],
   "source": [
    "print C"
   ]
  },
  {
   "cell_type": "code",
   "execution_count": 156,
   "metadata": {
    "collapsed": false
   },
   "outputs": [
    {
     "data": {
      "text/plain": [
       "(3, 3, 3)"
      ]
     },
     "execution_count": 156,
     "metadata": {},
     "output_type": "execute_result"
    }
   ],
   "source": [
    "A3.shape"
   ]
  },
  {
   "cell_type": "code",
   "execution_count": 157,
   "metadata": {
    "collapsed": true
   },
   "outputs": [],
   "source": [
    "from sklearn.datasets import load_boston"
   ]
  },
  {
   "cell_type": "code",
   "execution_count": 158,
   "metadata": {
    "collapsed": true
   },
   "outputs": [],
   "source": [
    "boston = load_boston()"
   ]
  },
  {
   "cell_type": "code",
   "execution_count": 162,
   "metadata": {
    "collapsed": false
   },
   "outputs": [
    {
     "name": "stdout",
     "output_type": "stream",
     "text": [
      "['data', 'feature_names', 'DESCR', 'target']\n"
     ]
    }
   ],
   "source": [
    "print boston.keys()"
   ]
  },
  {
   "cell_type": "code",
   "execution_count": 208,
   "metadata": {
    "collapsed": true
   },
   "outputs": [],
   "source": [
    "D = boston['data']\n",
    "F = boston['feature_names']"
   ]
  },
  {
   "cell_type": "code",
   "execution_count": 209,
   "metadata": {
    "collapsed": false
   },
   "outputs": [
    {
     "name": "stdout",
     "output_type": "stream",
     "text": [
      "[[  6.32000000e-03   1.80000000e+01   2.31000000e+00 ...,   1.53000000e+01\n",
      "    3.96900000e+02   4.98000000e+00]\n",
      " [  2.73100000e-02   0.00000000e+00   7.07000000e+00 ...,   1.78000000e+01\n",
      "    3.96900000e+02   9.14000000e+00]\n",
      " [  2.72900000e-02   0.00000000e+00   7.07000000e+00 ...,   1.78000000e+01\n",
      "    3.92830000e+02   4.03000000e+00]\n",
      " ..., \n",
      " [  6.07600000e-02   0.00000000e+00   1.19300000e+01 ...,   2.10000000e+01\n",
      "    3.96900000e+02   5.64000000e+00]\n",
      " [  1.09590000e-01   0.00000000e+00   1.19300000e+01 ...,   2.10000000e+01\n",
      "    3.93450000e+02   6.48000000e+00]\n",
      " [  4.74100000e-02   0.00000000e+00   1.19300000e+01 ...,   2.10000000e+01\n",
      "    3.96900000e+02   7.88000000e+00]]\n",
      "['CRIM' 'ZN' 'INDUS' 'CHAS' 'NOX' 'RM' 'AGE' 'DIS' 'RAD' 'TAX' 'PTRATIO'\n",
      " 'B' 'LSTAT']\n"
     ]
    }
   ],
   "source": [
    "print D\n",
    "print F"
   ]
  },
  {
   "cell_type": "code",
   "execution_count": 210,
   "metadata": {
    "collapsed": false
   },
   "outputs": [
    {
     "name": "stdout",
     "output_type": "stream",
     "text": [
      "3.59376071146\n",
      "[  6.32000000e-03   2.73100000e-02   2.72900000e-02   3.23700000e-02\n",
      "   6.90500000e-02   2.98500000e-02   8.82900000e-02   1.44550000e-01\n",
      "   2.11240000e-01   1.70040000e-01   2.24890000e-01   1.17470000e-01\n",
      "   9.37800000e-02   6.29760000e-01   6.37960000e-01   6.27390000e-01\n",
      "   1.05393000e+00   7.84200000e-01   8.02710000e-01   7.25800000e-01\n",
      "   1.25179000e+00   8.52040000e-01   1.23247000e+00   9.88430000e-01\n",
      "   7.50260000e-01   8.40540000e-01   6.71910000e-01   9.55770000e-01\n",
      "   7.72990000e-01   1.00245000e+00   1.13081000e+00   1.35472000e+00\n",
      "   1.38799000e+00   1.15172000e+00   1.61282000e+00   6.41700000e-02\n",
      "   9.74400000e-02   8.01400000e-02   1.75050000e-01   2.76300000e-02\n",
      "   3.35900000e-02   1.27440000e-01   1.41500000e-01   1.59360000e-01\n",
      "   1.22690000e-01   1.71420000e-01   1.88360000e-01   2.29270000e-01\n",
      "   2.53870000e-01   2.19770000e-01   8.87300000e-02   4.33700000e-02\n",
      "   5.36000000e-02   4.98100000e-02   1.36000000e-02   1.31100000e-02\n",
      "   2.05500000e-02   1.43200000e-02   1.54450000e-01   1.03280000e-01\n",
      "   1.49320000e-01   1.71710000e-01   1.10270000e-01   1.26500000e-01\n",
      "   1.95100000e-02   3.58400000e-02   4.37900000e-02   5.78900000e-02\n",
      "   1.35540000e-01   1.28160000e-01   8.82600000e-02   1.58760000e-01\n",
      "   9.16400000e-02   1.95390000e-01   7.89600000e-02   9.51200000e-02\n",
      "   1.01530000e-01   8.70700000e-02   5.64600000e-02   8.38700000e-02\n",
      "   4.11300000e-02   4.46200000e-02   3.65900000e-02   3.55100000e-02\n",
      "   5.05900000e-02   5.73500000e-02   5.18800000e-02   7.15100000e-02\n",
      "   5.66000000e-02   5.30200000e-02   4.68400000e-02   3.93200000e-02\n",
      "   4.20300000e-02   2.87500000e-02   4.29400000e-02   1.22040000e-01\n",
      "   1.15040000e-01   1.20830000e-01   8.18700000e-02   6.86000000e-02\n",
      "   1.48660000e-01   1.14320000e-01   2.28760000e-01   2.11610000e-01\n",
      "   1.39600000e-01   1.32620000e-01   1.71200000e-01   1.31170000e-01\n",
      "   1.28020000e-01   2.63630000e-01   1.07930000e-01   1.00840000e-01\n",
      "   1.23290000e-01   2.22120000e-01   1.42310000e-01   1.71340000e-01\n",
      "   1.31580000e-01   1.50980000e-01   1.30580000e-01   1.44760000e-01\n",
      "   6.89900000e-02   7.16500000e-02   9.29900000e-02   1.50380000e-01\n",
      "   9.84900000e-02   1.69020000e-01   3.87350000e-01   2.59150000e-01\n",
      "   3.25430000e-01   8.81250000e-01   3.40060000e-01   1.19294000e+00\n",
      "   5.90050000e-01   3.29820000e-01   9.76170000e-01   5.57780000e-01\n",
      "   3.22640000e-01   3.52330000e-01   2.49800000e-01   5.44520000e-01\n",
      "   2.90900000e-01   1.62864000e+00   3.32105000e+00   4.09740000e+00\n",
      "   2.77974000e+00   2.37934000e+00   2.15505000e+00   2.36862000e+00\n",
      "   2.33099000e+00   2.73397000e+00   1.65660000e+00   1.49632000e+00\n",
      "   1.12658000e+00   2.14918000e+00   1.41385000e+00   3.53501000e+00\n",
      "   2.44668000e+00   1.22358000e+00   1.34284000e+00   1.42502000e+00\n",
      "   1.27346000e+00   1.46336000e+00   1.83377000e+00   1.51902000e+00\n",
      "   2.24236000e+00   2.92400000e+00   2.01019000e+00   1.80028000e+00\n",
      "   2.30040000e+00   2.44953000e+00   1.20742000e+00   2.31390000e+00\n",
      "   1.39140000e-01   9.17800000e-02   8.44700000e-02   6.66400000e-02\n",
      "   7.02200000e-02   5.42500000e-02   6.64200000e-02   5.78000000e-02\n",
      "   6.58800000e-02   6.88800000e-02   9.10300000e-02   1.00080000e-01\n",
      "   8.30800000e-02   6.04700000e-02   5.60200000e-02   7.87500000e-02\n",
      "   1.25790000e-01   8.37000000e-02   9.06800000e-02   6.91100000e-02\n",
      "   8.66400000e-02   2.18700000e-02   1.43900000e-02   1.38100000e-02\n",
      "   4.01100000e-02   4.66600000e-02   3.76800000e-02   3.15000000e-02\n",
      "   1.77800000e-02   3.44500000e-02   2.17700000e-02   3.51000000e-02\n",
      "   2.00900000e-02   1.36420000e-01   2.29690000e-01   2.51990000e-01\n",
      "   1.35870000e-01   4.35710000e-01   1.74460000e-01   3.75780000e-01\n",
      "   2.17190000e-01   1.40520000e-01   2.89550000e-01   1.98020000e-01\n",
      "   4.56000000e-02   7.01300000e-02   1.10690000e-01   1.14250000e-01\n",
      "   3.58090000e-01   4.07710000e-01   6.23560000e-01   6.14700000e-01\n",
      "   3.15330000e-01   5.26930000e-01   3.82140000e-01   4.12380000e-01\n",
      "   2.98190000e-01   4.41780000e-01   5.37000000e-01   4.62960000e-01\n",
      "   5.75290000e-01   3.31470000e-01   4.47910000e-01   3.30450000e-01\n",
      "   5.20580000e-01   5.11830000e-01   8.24400000e-02   9.25200000e-02\n",
      "   1.13290000e-01   1.06120000e-01   1.02900000e-01   1.27570000e-01\n",
      "   2.06080000e-01   1.91330000e-01   3.39830000e-01   1.96570000e-01\n",
      "   1.64390000e-01   1.90730000e-01   1.40300000e-01   2.14090000e-01\n",
      "   8.22100000e-02   3.68940000e-01   4.81900000e-02   3.54800000e-02\n",
      "   1.53800000e-02   6.11540000e-01   6.63510000e-01   6.56650000e-01\n",
      "   5.40110000e-01   5.34120000e-01   5.20140000e-01   8.25260000e-01\n",
      "   5.50070000e-01   7.61620000e-01   7.85700000e-01   5.78340000e-01\n",
      "   5.40500000e-01   9.06500000e-02   2.99160000e-01   1.62110000e-01\n",
      "   1.14600000e-01   2.21880000e-01   5.64400000e-02   9.60400000e-02\n",
      "   1.04690000e-01   6.12700000e-02   7.97800000e-02   2.10380000e-01\n",
      "   3.57800000e-02   3.70500000e-02   6.12900000e-02   1.50100000e-02\n",
      "   9.06000000e-03   1.09600000e-02   1.96500000e-02   3.87100000e-02\n",
      "   4.59000000e-02   4.29700000e-02   3.50200000e-02   7.88600000e-02\n",
      "   3.61500000e-02   8.26500000e-02   8.19900000e-02   1.29320000e-01\n",
      "   5.37200000e-02   1.41030000e-01   6.46600000e-02   5.56100000e-02\n",
      "   4.41700000e-02   3.53700000e-02   9.26600000e-02   1.00000000e-01\n",
      "   5.51500000e-02   5.47900000e-02   7.50300000e-02   4.93200000e-02\n",
      "   4.92980000e-01   3.49400000e-01   2.63548000e+00   7.90410000e-01\n",
      "   2.61690000e-01   2.69380000e-01   3.69200000e-01   2.53560000e-01\n",
      "   3.18270000e-01   2.45220000e-01   4.02020000e-01   4.75470000e-01\n",
      "   1.67600000e-01   1.81590000e-01   3.51140000e-01   2.83920000e-01\n",
      "   3.41090000e-01   1.91860000e-01   3.03470000e-01   2.41030000e-01\n",
      "   6.61700000e-02   6.72400000e-02   4.54400000e-02   5.02300000e-02\n",
      "   3.46600000e-02   5.08300000e-02   3.73800000e-02   3.96100000e-02\n",
      "   3.42700000e-02   3.04100000e-02   3.30600000e-02   5.49700000e-02\n",
      "   6.15100000e-02   1.30100000e-02   2.49800000e-02   2.54300000e-02\n",
      "   3.04900000e-02   3.11300000e-02   6.16200000e-02   1.87000000e-02\n",
      "   1.50100000e-02   2.89900000e-02   6.21100000e-02   7.95000000e-02\n",
      "   7.24400000e-02   1.70900000e-02   4.30100000e-02   1.06590000e-01\n",
      "   8.98296000e+00   3.84970000e+00   5.20177000e+00   4.26131000e+00\n",
      "   4.54192000e+00   3.83684000e+00   3.67822000e+00   4.22239000e+00\n",
      "   3.47428000e+00   4.55587000e+00   3.69695000e+00   1.35222000e+01\n",
      "   4.89822000e+00   5.66998000e+00   6.53876000e+00   9.23230000e+00\n",
      "   8.26725000e+00   1.11081000e+01   1.84982000e+01   1.96091000e+01\n",
      "   1.52880000e+01   9.82349000e+00   2.36482000e+01   1.78667000e+01\n",
      "   8.89762000e+01   1.58744000e+01   9.18702000e+00   7.99248000e+00\n",
      "   2.00849000e+01   1.68118000e+01   2.43938000e+01   2.25971000e+01\n",
      "   1.43337000e+01   8.15174000e+00   6.96215000e+00   5.29305000e+00\n",
      "   1.15779000e+01   8.64476000e+00   1.33598000e+01   8.71675000e+00\n",
      "   5.87205000e+00   7.67202000e+00   3.83518000e+01   9.91655000e+00\n",
      "   2.50461000e+01   1.42362000e+01   9.59571000e+00   2.48017000e+01\n",
      "   4.15292000e+01   6.79208000e+01   2.07162000e+01   1.19511000e+01\n",
      "   7.40389000e+00   1.44383000e+01   5.11358000e+01   1.40507000e+01\n",
      "   1.88110000e+01   2.86558000e+01   4.57461000e+01   1.80846000e+01\n",
      "   1.08342000e+01   2.59406000e+01   7.35341000e+01   1.18123000e+01\n",
      "   1.10874000e+01   7.02259000e+00   1.20482000e+01   7.05042000e+00\n",
      "   8.79212000e+00   1.58603000e+01   1.22472000e+01   3.76619000e+01\n",
      "   7.36711000e+00   9.33889000e+00   8.49213000e+00   1.00623000e+01\n",
      "   6.44405000e+00   5.58107000e+00   1.39134000e+01   1.11604000e+01\n",
      "   1.44208000e+01   1.51772000e+01   1.36781000e+01   9.39063000e+00\n",
      "   2.20511000e+01   9.72418000e+00   5.66637000e+00   9.96654000e+00\n",
      "   1.28023000e+01   6.71800000e-01   6.28807000e+00   9.92485000e+00\n",
      "   9.32909000e+00   7.52601000e+00   6.71772000e+00   5.44114000e+00\n",
      "   5.09017000e+00   8.24809000e+00   9.51363000e+00   4.75237000e+00\n",
      "   4.66883000e+00   8.20058000e+00   7.75223000e+00   6.80117000e+00\n",
      "   4.81213000e+00   3.69311000e+00   6.65492000e+00   5.82115000e+00\n",
      "   7.83932000e+00   3.16360000e+00   3.77498000e+00   4.42228000e+00\n",
      "   1.55757000e+01   1.30751000e+01   4.34879000e+00   4.03841000e+00\n",
      "   3.56868000e+00   4.64689000e+00   8.05579000e+00   6.39312000e+00\n",
      "   4.87141000e+00   1.50234000e+01   1.02330000e+01   1.43337000e+01\n",
      "   5.82401000e+00   5.70818000e+00   5.73116000e+00   2.81838000e+00\n",
      "   2.37857000e+00   3.67367000e+00   5.69175000e+00   4.83567000e+00\n",
      "   1.50860000e-01   1.83370000e-01   2.07460000e-01   1.05740000e-01\n",
      "   1.11320000e-01   1.73310000e-01   2.79570000e-01   1.78990000e-01\n",
      "   2.89600000e-01   2.68380000e-01   2.39120000e-01   1.77830000e-01\n",
      "   2.24380000e-01   6.26300000e-02   4.52700000e-02   6.07600000e-02\n",
      "   1.09590000e-01   4.74100000e-02]\n"
     ]
    }
   ],
   "source": [
    "print(D[:,0].mean())\n",
    "print(D[:,0])\n"
   ]
  },
  {
   "cell_type": "code",
   "execution_count": 211,
   "metadata": {
    "collapsed": false
   },
   "outputs": [
    {
     "data": {
      "text/plain": [
       "[('CRIM', 3.5937607114624508, 8.5882835476535533),\n",
       " ('ZN', 11.363636363636363, 23.299395694766027),\n",
       " ('INDUS', 11.136778656126504, 6.8535705833908729),\n",
       " ('CHAS', 0.069169960474308304, 0.25374293496034855),\n",
       " ('NOX', 0.55469505928853724, 0.11576311540656153),\n",
       " ('RM', 6.2846343873517867, 0.7019225143345692),\n",
       " ('AGE', 68.574901185770784, 28.121032570236885),\n",
       " ('DIS', 3.795042687747034, 2.1036283563444589),\n",
       " ('RAD', 9.5494071146245059, 8.6986511177906447),\n",
       " ('TAX', 408.23715415019763, 168.37049503938141),\n",
       " ('PTRATIO', 18.455533596837967, 2.1628051914821418),\n",
       " ('B', 356.67403162055257, 91.204607452172723),\n",
       " ('LSTAT', 12.653063241106723, 7.1340016366504848)]"
      ]
     },
     "execution_count": 211,
     "metadata": {},
     "output_type": "execute_result"
    }
   ],
   "source": [
    "(zip(F, D.mean(axis=0), D.std(axis=0))) #creating list\n"
   ]
  },
  {
   "cell_type": "code",
   "execution_count": 212,
   "metadata": {
    "collapsed": false
   },
   "outputs": [
    {
     "data": {
      "text/plain": [
       "[<matplotlib.lines.Line2D at 0x1066c0190>]"
      ]
     },
     "execution_count": 212,
     "metadata": {},
     "output_type": "execute_result"
    },
    {
     "data": {
      "image/png": "[encoded data removed]",
      "text/plain": [
       "<Figure size 432x432 with 1 Axes>"
      ]
     },
     "metadata": {},
     "output_type": "display_data"
    }
   ],
   "source": [
    "D = D[:, [5, 12]]\n",
    "plt.figure(figsize=(6,6))\n",
    "plt.plot(D[:, 0], D[:, 1], 'o', color='black', ms=3)\n",
    "plt.plot(D[:, 0].mean(), D[:, 1].mean(), 'o', color='red', ms=10)"
   ]
  },
  {
   "cell_type": "code",
   "execution_count": 202,
   "metadata": {
    "collapsed": true
   },
   "outputs": [],
   "source": [
    "D_norm = D - D.mean(axis=0) # center around origin\n",
    "D_norm /= D.std(axis=0) # rescale features"
   ]
  },
  {
   "cell_type": "code",
   "execution_count": 213,
   "metadata": {
    "collapsed": true
   },
   "outputs": [],
   "source": [
    "import scipy\n",
    "import scipy.spatial"
   ]
  },
  {
   "cell_type": "code",
   "execution_count": 214,
   "metadata": {
    "collapsed": true
   },
   "outputs": [],
   "source": [
    "S = scipy.spatial.distance.cdist(D_norm, D_norm)"
   ]
  },
  {
   "cell_type": "code",
   "execution_count": 215,
   "metadata": {
    "collapsed": false
   },
   "outputs": [
    {
     "name": "stdout",
     "output_type": "stream",
     "text": [
      "[[ 0.          0.62303098  0.87918518 ...,  0.57873059  0.37623624\n",
      "   0.87641484]\n",
      " [ 0.62303098  0.          1.30298446 ...,  0.93052679  0.64916082\n",
      "   0.58437106]\n",
      " [ 0.87918518  1.30298446  0.         ...,  0.37361559  0.65439784\n",
      "   1.7317187 ]\n",
      " ..., \n",
      " [ 0.57873059  0.93052679  0.37361559 ...,  0.          0.28477064\n",
      "   1.38381994]\n",
      " [ 0.37623624  0.64916082  0.65439784 ...,  0.28477064  0.          1.10598887]\n",
      " [ 0.87641484  0.58437106  1.7317187  ...,  1.38381994  1.10598887  0.        ]]\n"
     ]
    }
   ],
   "source": [
    "print S"
   ]
  },
  {
   "cell_type": "code",
   "execution_count": 218,
   "metadata": {
    "collapsed": false
   },
   "outputs": [
    {
     "data": {
      "text/plain": [
       "<Figure size 432x432 with 0 Axes>"
      ]
     },
     "metadata": {},
     "output_type": "display_data"
    }
   ],
   "source": [
    "plt.figure(figsize=(6, 6))\n",
    "ind = numpy.where(S < 0.2)"
   ]
  },
  {
   "cell_type": "code",
   "execution_count": 220,
   "metadata": {
    "collapsed": false
   },
   "outputs": [
    {
     "data": {
      "text/plain": [
       "[<matplotlib.lines.Line2D at 0x106e3a810>]"
      ]
     },
     "execution_count": 220,
     "metadata": {},
     "output_type": "execute_result"
    },
    {
     "data": {
      "image/png": "[encoded data removed]",
      "text/plain": [
       "<Figure size 432x288 with 1 Axes>"
      ]
     },
     "metadata": {},
     "output_type": "display_data"
    }
   ],
   "source": [
    "plt.plot(D_norm[:, 0], D_norm[:, 1], 'o', color='black', ms=3)"
   ]
  },
  {
   "cell_type": "code",
   "execution_count": 233,
   "metadata": {
    "collapsed": false
   },
   "outputs": [
    {
     "data": {
      "image/png": "[encoded data removed]",
      "text/plain": [
       "<Figure size 432x288 with 1 Axes>"
      ]
     },
     "metadata": {},
     "output_type": "display_data"
    }
   ],
   "source": [
    "for i1,i2 in zip(*ind):\n",
    "    plt.plot([D_norm[i1, 0], D_norm[i2, 0]], [D_norm[i1, 1], D_norm[i2, 1]], color='red')"
   ]
  },
  {
   "cell_type": "code",
   "execution_count": 231,
   "metadata": {
    "collapsed": false
   },
   "outputs": [
    {
     "name": "stdout",
     "output_type": "stream",
     "text": [
      "Help on built-in function where in module numpy.core.multiarray:\n",
      "\n",
      "where(...)\n",
      "    where(condition, [x, y])\n",
      "    \n",
      "    Return elements, either from `x` or `y`, depending on `condition`.\n",
      "    \n",
      "    If only `condition` is given, return ``condition.nonzero()``.\n",
      "    \n",
      "    Parameters\n",
      "    ----------\n",
      "    condition : array_like, bool\n",
      "        When True, yield `x`, otherwise yield `y`.\n",
      "    x, y : array_like, optional\n",
      "        Values from which to choose. `x` and `y` need to have the same\n",
      "        shape as `condition`.\n",
      "    \n",
      "    Returns\n",
      "    -------\n",
      "    out : ndarray or tuple of ndarrays\n",
      "        If both `x` and `y` are specified, the output array contains\n",
      "        elements of `x` where `condition` is True, and elements from\n",
      "        `y` elsewhere.\n",
      "    \n",
      "        If only `condition` is given, return the tuple\n",
      "        ``condition.nonzero()``, the indices where `condition` is True.\n",
      "    \n",
      "    See Also\n",
      "    --------\n",
      "    nonzero, choose\n",
      "    \n",
      "    Notes\n",
      "    -----\n",
      "    If `x` and `y` are given and input arrays are 1-D, `where` is\n",
      "    equivalent to::\n",
      "    \n",
      "        [xv if c else yv for (c,xv,yv) in zip(condition,x,y)]\n",
      "    \n",
      "    Examples\n",
      "    --------\n",
      "    >>> np.where([[True, False], [True, True]],\n",
      "    ...          [[1, 2], [3, 4]],\n",
      "    ...          [[9, 8], [7, 6]])\n",
      "    array([[1, 8],\n",
      "           [3, 4]])\n",
      "    \n",
      "    >>> np.where([[0, 1], [1, 0]])\n",
      "    (array([0, 1]), array([1, 0]))\n",
      "    \n",
      "    >>> x = np.arange(9.).reshape(3, 3)\n",
      "    >>> np.where( x > 5 )\n",
      "    (array([2, 2, 2]), array([0, 1, 2]))\n",
      "    >>> x[np.where( x > 3.0 )]               # Note: result is 1D.\n",
      "    array([ 4.,  5.,  6.,  7.,  8.])\n",
      "    >>> np.where(x < 5, x, -1)               # Note: broadcasting.\n",
      "    array([[ 0.,  1.,  2.],\n",
      "           [ 3.,  4., -1.],\n",
      "           [-1., -1., -1.]])\n",
      "    \n",
      "    Find the indices of elements of `x` that are in `goodvalues`.\n",
      "    \n",
      "    >>> goodvalues = [3, 4, 7]\n",
      "    >>> ix = np.in1d(x.ravel(), goodvalues).reshape(x.shape)\n",
      "    >>> ix\n",
      "    array([[False, False, False],\n",
      "           [ True,  True, False],\n",
      "           [False,  True, False]], dtype=bool)\n",
      "    >>> np.where(ix)\n",
      "    (array([1, 1, 2]), array([0, 1, 1]))\n",
      "\n"
     ]
    }
   ],
   "source": [
    "help(numpy.where)"
   ]
  },
  {
   "cell_type": "code",
   "execution_count": null,
   "metadata": {
    "collapsed": true
   },
   "outputs": [],
   "source": []
  }
 ],
 "metadata": {
  "kernelspec": {
   "display_name": "Python 2",
   "language": "python",
   "name": "python2"
  },
  "language_info": {
   "codemirror_mode": {
    "name": "ipython",
    "version": 2
   },
   "file_extension": ".py",
   "mimetype": "text/x-python",
   "name": "python",
   "nbconvert_exporter": "python",
   "pygments_lexer": "ipython2",
   "version": "2.7.14"
  }
 },
 "nbformat": 4,
 "nbformat_minor": 2
}
